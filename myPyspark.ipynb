{
 "cells": [
  {
   "cell_type": "markdown",
   "metadata": {},
   "source": [
    "## PySpark Code Snippets"
   ]
  },
  {
   "cell_type": "markdown",
   "metadata": {},
   "source": [
    "### UPSERT"
   ]
  },
  {
   "cell_type": "code",
   "execution_count": null,
   "metadata": {
    "vscode": {
     "languageId": "plaintext"
    }
   },
   "outputs": [],
   "source": [
    "# check if table exists\n",
    "if (updates.count() == 0):\n",
    "    varRecordsInserted = 0\n",
    "    varRecordsUpdated = 0\n",
    "elif (DeltaTable.isDeltaTable(spark, tablePath)):\n",
    "    # get handle on table\n",
    "    deltaAce = DeltaTable.forPath(spark, tablePath)\n",
    "    # UPSERT logic\n",
    "    deltaAce.alias(\"source\").merge(\n",
    "        updates.alias(\"updates\"), qry\n",
    "    ).whenMatchedUpdateAll(\n",
    "    ).whenNotMatchedInsertAll(\n",
    "    ).execute()\n",
    "    display(deltaAce.history())\n",
    "    operations = deltaAce.history()\n",
    "    lastOperation = operations.filter(operations['operation'] == 'MERGE').first()\n",
    "    display(lastOperation)\n",
    "    varTotalRows = int(lastOperation.operationMetrics[\"numSourceRows\"])\n",
    "    varRecordsInserted = int(lastOperation.operationMetrics[\"numTargetRowsInserted\"])\n",
    "    varRecordsUpdated = int(lastOperation.operationMetrics[\"numTargetRowsUpdated\"])\n",
    "#if table doesn't exist create it from dataframe\n",
    "else:\n",
    "    tableName = f'lhBronze.{varBronzeTbl}'\n",
    "    updates.write.format(\"delta\").mode(\"overwrite\").saveAsTable(tableName)\n",
    "    varTotalRows = updates.count()\n",
    "    varRecordsInserted = updates.count()\n",
    "    varRecordsUpdated = 0\n",
    "\n",
    "# Results\n",
    "results = {\n",
    "    'Inserted' : varRecordsInserted,\n",
    "    'Updated' : varRecordsUpdated\n",
    "}\n",
    "mssparkutils.notebook.exit(results)"
   ]
  }
 ],
 "metadata": {
  "language_info": {
   "name": "python"
  }
 },
 "nbformat": 4,
 "nbformat_minor": 2
}
